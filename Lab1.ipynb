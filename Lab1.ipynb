{
  "nbformat": 4,
  "nbformat_minor": 0,
  "metadata": {
    "colab": {
      "provenance": [],
      "collapsed_sections": [],
      "include_colab_link": true
    },
    "kernelspec": {
      "display_name": "Python 3",
      "language": "python",
      "name": "python3"
    },
    "language_info": {
      "codemirror_mode": {
        "name": "ipython",
        "version": 3
      },
      "file_extension": ".py",
      "mimetype": "text/x-python",
      "name": "python",
      "nbconvert_exporter": "python",
      "pygments_lexer": "ipython3",
      "version": "3.7.4"
    }
  },
  "cells": [
    {
      "cell_type": "markdown",
      "metadata": {
        "id": "view-in-github",
        "colab_type": "text"
      },
      "source": [
        "<a href=\"https://colab.research.google.com/github/xhackerino/DataAnalysisLab_1/blob/main/Lab1.ipynb\" target=\"_parent\"><img src=\"https://colab.research.google.com/assets/colab-badge.svg\" alt=\"Open In Colab\"/></a>"
      ]
    },
    {
      "cell_type": "markdown",
      "metadata": {
        "id": "BsNwjQDRfmLY"
      },
      "source": [
        "# Задание 1 (numpy + matplotlib)"
      ]
    },
    {
      "cell_type": "markdown",
      "metadata": {
        "id": "wu6r1-s7fmLe"
      },
      "source": [
        "---"
      ]
    },
    {
      "cell_type": "markdown",
      "metadata": {
        "id": "zxRIdPO9gYyX"
      },
      "source": [
        "Напишите программу, которая будет решать систему линейных уравнений вида:\n",
        "\n",
        "\\begin{matrix} a_{11}x+a_{12}y=b_{1}&(1) \\\\ a_{21}x+a_{22}y=b_{2} &(2) \\end{matrix}\n",
        "​\t\n",
        "* На вход программа должна принимать 2 строки (т.е. должен быть реализован ввод с клавиатуры). Каждая строка содержит 3 действительных числа через пробел: коэффициенты a и b.\n",
        "* Систему уравнений необходимо решить матричным способом. Предусмотрите случаи, когда решения есть, решений нет, решений бесконечно много. Выведите ответ. Покажите решение на графике. Если решения есть, постройте график и точкой отметьте решение (если оно одно, например, функцией [`scatter`](https://matplotlib.org/stable/api/_as_gen/matplotlib.pyplot.scatter.html)). ГРАФИК СТРОИТСЯ ВО ВСЕХ ТРЕХ РАССМАТРИВАЕМЫХ СЛУЧАЯХ."
      ]
    },
    {
      "cell_type": "code",
      "metadata": {
        "id": "6sxlcLbVlrjl"
      },
      "source": [
        "from numpy.core.function_base import linspace\n",
        "from scipy.linalg.misc import LinAlgError\n",
        "import numpy as np\n",
        "from matplotlib import pyplot as plt\n",
        "from scipy.linalg import solve\n",
        "\n",
        "a11 = int(input(\"Введите коэффициент a11 первого уравнения: \"))\n",
        "a12 = int(input(\"Введите коэффициент a12 первого уравнения: \"))\n",
        "b1 = int(input(\"Введите коэффициент b1 первого уравнения: \"))\n",
        "a21 = int(input(\"Введите коэффициент a21 второго уравнения: \"))\n",
        "a22 = int(input(\"Введите коэффициент a22 второго уравнения: \"))\n",
        "b2 = int(input(\"Введите коэффициент b2 второго уравнения: \"))\n",
        "\n",
        "x = list(range(-100,100))\n",
        "y1 = [(b1-a11*x1)/a12 for x1 in x]\n",
        "y2 = [(b2-a21*x2)/a22 for x2 in x]\n",
        "\n",
        "eq_1 = np.array([[a11, a12], [a21, a22]])\n",
        "eq_2 = np.array([b1, b2]).reshape((2,1))\n",
        "\n",
        "fig, ax = plt.subplots()\n",
        "\n",
        "try:\n",
        "  res = solve(eq_1,eq_2)\n",
        "  print(\"Решение: \", res)\n",
        "  plt.plot(x, y1)\n",
        "  plt.plot(x, y2)\n",
        "  ax.scatter(res[0], res[1])\n",
        "except LinAlgError as lae:\n",
        "  print(\"Если решений нет - графики параллельны, если решений бесконечно - графики идентичные\")\n",
        "  plt.plot(x,y1)\n",
        "  plt.plot(x,y2)"
      ],
      "execution_count": null,
      "outputs": []
    },
    {
      "cell_type": "markdown",
      "metadata": {
        "id": "efml9GzISC9Q"
      },
      "source": [
        "# Задание 2 (pytorch + matplotlib)"
      ]
    },
    {
      "cell_type": "markdown",
      "metadata": {
        "id": "_hy7PFz031Wx"
      },
      "source": [
        "Пусть $f(x) = \\sin(x) * x$. Постройте график $f(x)$ и $\\frac{df(x)}{dx}$, для расчета производных воспользуйтесь методом `backward()` и matplotlib для построения графиков."
      ]
    },
    {
      "cell_type": "code",
      "metadata": {
        "id": "GPjLHMGNK_oG"
      },
      "source": [
        "# PUT YOUR CODE HERE"
      ],
      "execution_count": null,
      "outputs": []
    }
  ]
}